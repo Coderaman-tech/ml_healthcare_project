{
 "cells": [
  {
   "cell_type": "code",
   "execution_count": 2,
   "metadata": {},
   "outputs": [
    {
     "name": "stderr",
     "output_type": "stream",
     "text": [
      "[nltk_data] Downloading package wordnet to\n",
      "[nltk_data]     /Users/sanjeevzin/nltk_data...\n",
      "[nltk_data]   Package wordnet is already up-to-date!\n"
     ]
    },
    {
     "data": {
      "text/plain": [
       "True"
      ]
     },
     "execution_count": 2,
     "metadata": {},
     "output_type": "execute_result"
    }
   ],
   "source": [
    "import pandas as pd\n",
    "import numpy as np\n",
    "import matplotlib.pyplot as plt\n",
    "%matplotlib inline\n",
    "import nltk\n",
    "nltk.download('wordnet')"
   ]
  },
  {
   "cell_type": "code",
   "execution_count": 3,
   "metadata": {},
   "outputs": [],
   "source": [
    "df=pd.read_csv(\"drugsComTrain_raw.csv\")"
   ]
  },
  {
   "cell_type": "code",
   "execution_count": 4,
   "metadata": {},
   "outputs": [
    {
     "data": {
      "text/plain": [
       "179"
      ]
     },
     "execution_count": 4,
     "metadata": {},
     "output_type": "execute_result"
    }
   ],
   "source": [
    "stopwords=nltk.corpus.stopwords.words('english')\n",
    "len(stopwords[:])"
   ]
  },
  {
   "cell_type": "code",
   "execution_count": 5,
   "metadata": {},
   "outputs": [
    {
     "data": {
      "text/plain": [
       "0         [\"It, has, no, side, effect,, I, take, it, in,...\n",
       "1         [\"My, son, is, halfway, through, his, fourth, ...\n",
       "2         [\"I, used, to, take, another, oral, contracept...\n",
       "3         [\"This, is, my, first, time, using, any, form,...\n",
       "4         [\"Suboxone, has, completely, turned, my, life,...\n",
       "                                ...                        \n",
       "161292    [\"I, wrote, my, first, report, in, Mid-October...\n",
       "161293    [\"I, was, given, this, in, IV, before, surgey....\n",
       "161294    [\"Limited, improvement, after, 4, months,, dev...\n",
       "161295    [\"I&#039;ve, been, on, thyroid, medication, 49...\n",
       "161296    [\"I&#039;ve, had, chronic, constipation, all, ...\n",
       "Name: cleaned_review, Length: 161297, dtype: object"
      ]
     },
     "execution_count": 5,
     "metadata": {},
     "output_type": "execute_result"
    }
   ],
   "source": [
    "df[\"cleaned_review\"]=df[\"review\"].apply(lambda x:x.split())\n",
    "df[\"cleaned_review\"]"
   ]
  },
  {
   "cell_type": "code",
   "execution_count": 6,
   "metadata": {},
   "outputs": [],
   "source": [
    "def remove_sw(ls):\n",
    "    l=[word for word in ls if word not in stopwords]\n",
    "    return l\n",
    "df[\"cleaned_review\"]=df[\"cleaned_review\"].apply(lambda x:remove_sw(x))\n"
   ]
  },
  {
   "cell_type": "code",
   "execution_count": 7,
   "metadata": {},
   "outputs": [],
   "source": [
    "def remove(ls):\n",
    "    l=[word for word in ls if word!=\"\\\"I&#039;ve\"]\n",
    "    return l\n",
    "df[\"cleaned_review\"]=df[\"cleaned_review\"].apply(lambda x:remove(x))\n",
    "def firstword(sentence):\n",
    "    if sentence[0][0]=='\\\"':\n",
    "        s=sentence[0][1:]\n",
    "        sentence[0]=s\n",
    "        return sentence\n",
    "    else:\n",
    "        return sentence\n",
    "    \n",
    "df[\"cleaned_review\"]=df[\"cleaned_review\"].apply(lambda x:firstword(x))"
   ]
  },
  {
   "cell_type": "code",
   "execution_count": 8,
   "metadata": {},
   "outputs": [
    {
     "data": {
      "text/html": [
       "<div>\n",
       "<style scoped>\n",
       "    .dataframe tbody tr th:only-of-type {\n",
       "        vertical-align: middle;\n",
       "    }\n",
       "\n",
       "    .dataframe tbody tr th {\n",
       "        vertical-align: top;\n",
       "    }\n",
       "\n",
       "    .dataframe thead th {\n",
       "        text-align: right;\n",
       "    }\n",
       "</style>\n",
       "<table border=\"1\" class=\"dataframe\">\n",
       "  <thead>\n",
       "    <tr style=\"text-align: right;\">\n",
       "      <th></th>\n",
       "      <th>uniqueID</th>\n",
       "      <th>drugName</th>\n",
       "      <th>condition</th>\n",
       "      <th>review</th>\n",
       "      <th>rating</th>\n",
       "      <th>date</th>\n",
       "      <th>usefulCount</th>\n",
       "      <th>cleaned_review</th>\n",
       "    </tr>\n",
       "  </thead>\n",
       "  <tbody>\n",
       "    <tr>\n",
       "      <th>161292</th>\n",
       "      <td>191035</td>\n",
       "      <td>Campral</td>\n",
       "      <td>Alcohol Dependence</td>\n",
       "      <td>\"I wrote my first report in Mid-October of 201...</td>\n",
       "      <td>10</td>\n",
       "      <td>31-May-15</td>\n",
       "      <td>125</td>\n",
       "      <td>[I, wrote, first, report, Mid-October, 2014., ...</td>\n",
       "    </tr>\n",
       "    <tr>\n",
       "      <th>161293</th>\n",
       "      <td>127085</td>\n",
       "      <td>Metoclopramide</td>\n",
       "      <td>Nausea/Vomiting</td>\n",
       "      <td>\"I was given this in IV before surgey. I immed...</td>\n",
       "      <td>1</td>\n",
       "      <td>1-Nov-11</td>\n",
       "      <td>34</td>\n",
       "      <td>[I, given, IV, surgey., I, immediately, became...</td>\n",
       "    </tr>\n",
       "    <tr>\n",
       "      <th>161294</th>\n",
       "      <td>187382</td>\n",
       "      <td>Orencia</td>\n",
       "      <td>Rheumatoid Arthritis</td>\n",
       "      <td>\"Limited improvement after 4 months, developed...</td>\n",
       "      <td>2</td>\n",
       "      <td>15-Mar-14</td>\n",
       "      <td>35</td>\n",
       "      <td>[Limited, improvement, 4, months,, developed, ...</td>\n",
       "    </tr>\n",
       "    <tr>\n",
       "      <th>161295</th>\n",
       "      <td>47128</td>\n",
       "      <td>Thyroid desiccated</td>\n",
       "      <td>Underactive Thyroid</td>\n",
       "      <td>\"I&amp;#039;ve been on thyroid medication 49 years...</td>\n",
       "      <td>10</td>\n",
       "      <td>19-Sep-15</td>\n",
       "      <td>79</td>\n",
       "      <td>[thyroid, medication, 49, years,, I, spent, fi...</td>\n",
       "    </tr>\n",
       "    <tr>\n",
       "      <th>161296</th>\n",
       "      <td>215220</td>\n",
       "      <td>Lubiprostone</td>\n",
       "      <td>Constipation, Chronic</td>\n",
       "      <td>\"I&amp;#039;ve had chronic constipation all my adu...</td>\n",
       "      <td>9</td>\n",
       "      <td>13-Dec-14</td>\n",
       "      <td>116</td>\n",
       "      <td>[chronic, constipation, adult, life., Tried, L...</td>\n",
       "    </tr>\n",
       "  </tbody>\n",
       "</table>\n",
       "</div>"
      ],
      "text/plain": [
       "        uniqueID            drugName              condition  \\\n",
       "161292    191035             Campral     Alcohol Dependence   \n",
       "161293    127085      Metoclopramide        Nausea/Vomiting   \n",
       "161294    187382             Orencia   Rheumatoid Arthritis   \n",
       "161295     47128  Thyroid desiccated    Underactive Thyroid   \n",
       "161296    215220        Lubiprostone  Constipation, Chronic   \n",
       "\n",
       "                                                   review  rating       date  \\\n",
       "161292  \"I wrote my first report in Mid-October of 201...      10  31-May-15   \n",
       "161293  \"I was given this in IV before surgey. I immed...       1   1-Nov-11   \n",
       "161294  \"Limited improvement after 4 months, developed...       2  15-Mar-14   \n",
       "161295  \"I&#039;ve been on thyroid medication 49 years...      10  19-Sep-15   \n",
       "161296  \"I&#039;ve had chronic constipation all my adu...       9  13-Dec-14   \n",
       "\n",
       "        usefulCount                                     cleaned_review  \n",
       "161292          125  [I, wrote, first, report, Mid-October, 2014., ...  \n",
       "161293           34  [I, given, IV, surgey., I, immediately, became...  \n",
       "161294           35  [Limited, improvement, 4, months,, developed, ...  \n",
       "161295           79  [thyroid, medication, 49, years,, I, spent, fi...  \n",
       "161296          116  [chronic, constipation, adult, life., Tried, L...  "
      ]
     },
     "execution_count": 8,
     "metadata": {},
     "output_type": "execute_result"
    }
   ],
   "source": [
    "def remove_sw(ls):\n",
    "    l=[word for word in ls if word not in stopwords]\n",
    "    return l\n",
    "df[\"cleaned_review\"]=df[\"cleaned_review\"].apply(lambda x:remove_sw(x))\n",
    "df.tail()"
   ]
  },
  {
   "cell_type": "markdown",
   "metadata": {},
   "source": [
    "## lametize function\n"
   ]
  },
  {
   "cell_type": "code",
   "execution_count": 9,
   "metadata": {},
   "outputs": [],
   "source": [
    "from nltk.stem import WordNetLemmatizer\n",
    "wn_lemmatizer=WordNetLemmatizer()"
   ]
  },
  {
   "cell_type": "code",
   "execution_count": 10,
   "metadata": {},
   "outputs": [],
   "source": [
    "punctuations=['.','?','!',':',',',';']\n",
    "\n",
    "def lemmatizer(tokenize_sentence):\n",
    "    for word in tokenize_sentence:\n",
    "        if word in punctuations:\n",
    "            tokenize_sentence.remove(word)\n",
    "    lemmetize_list=[]\n",
    "    for word in tokenize_sentence:\n",
    "        lemmetize_list.append(wn_lemmatizer.lemmatize(word))\n",
    "    return lemmetize_list\n",
    "df[\"cleaned_review\"]=df[\"cleaned_review\"].apply(lambda x:lemmatizer(x))"
   ]
  },
  {
   "cell_type": "code",
   "execution_count": 18,
   "metadata": {},
   "outputs": [
    {
     "data": {
      "text/plain": [
       "['It',\n",
       " 'side',\n",
       " 'effect,',\n",
       " 'I',\n",
       " 'take',\n",
       " 'combination',\n",
       " 'Bystolic',\n",
       " '5',\n",
       " 'Mg',\n",
       " 'Fish',\n",
       " 'Oil\"']"
      ]
     },
     "execution_count": 18,
     "metadata": {},
     "output_type": "execute_result"
    }
   ],
   "source": [
    "df[\"cleaned_review\"][0]"
   ]
  },
  {
   "cell_type": "code",
   "execution_count": 22,
   "metadata": {},
   "outputs": [
    {
     "data": {
      "text/plain": [
       "0    I t   s i d e   e f f e c t ,   I   t a k e   ...\n",
       "1    M y   s o n   h a l f w a y   f o u r t h   w ...\n",
       "2    I   u s e d   t a k e   a n o t h e r   o r a ...\n",
       "3    T h i s   f i r s t   t i m e   u s i n g   f ...\n",
       "4    S u b o x o n e   c o m p l e t e l y   t u r ...\n",
       "Name: cleaned_review, dtype: object"
      ]
     },
     "execution_count": 22,
     "metadata": {},
     "output_type": "execute_result"
    }
   ],
   "source": [
    "def changetostring(ls):\n",
    "    str=\"\"\n",
    "    for i in ls:\n",
    "        str=str+i\n",
    "    return str\n",
    "df[\"cleaned_review\"]=df[\"cleaned_review\"].apply(lambda x:changetostring(x))\n",
    "df[\"cleaned_review\"].head()"
   ]
  },
  {
   "cell_type": "code",
   "execution_count": 24,
   "metadata": {},
   "outputs": [
    {
     "data": {
      "text/plain": [
       "'I t   s i d e   e f f e c t ,   I   t a k e   c o m b i n a t i o n   B y s t o l i c   5   M g   F i s h   O i l \"   '"
      ]
     },
     "execution_count": 24,
     "metadata": {},
     "output_type": "execute_result"
    }
   ],
   "source": [
    "df[\"cleaned_review\"][0]"
   ]
  },
  {
   "cell_type": "code",
   "execution_count": null,
   "metadata": {},
   "outputs": [],
   "source": []
  }
 ],
 "metadata": {
  "kernelspec": {
   "display_name": "Python 3",
   "language": "python",
   "name": "python3"
  },
  "language_info": {
   "codemirror_mode": {
    "name": "ipython",
    "version": 3
   },
   "file_extension": ".py",
   "mimetype": "text/x-python",
   "name": "python",
   "nbconvert_exporter": "python",
   "pygments_lexer": "ipython3",
   "version": "3.8.5"
  }
 },
 "nbformat": 4,
 "nbformat_minor": 4
}
